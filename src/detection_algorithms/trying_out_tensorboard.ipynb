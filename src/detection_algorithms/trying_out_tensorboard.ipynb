{
 "cells": [
  {
   "cell_type": "markdown",
   "id": "704f9ddf-0abc-4b5a-902c-d62cad58bf22",
   "metadata": {},
   "source": [
    "## Load data"
   ]
  },
  {
   "cell_type": "code",
   "execution_count": 13,
   "id": "7cb17386-66dd-418a-b6fa-c1ba670e8dca",
   "metadata": {},
   "outputs": [],
   "source": [
    "import torch\n",
    "import torch.nn as nn\n",
    "from transformers import CLIPImageProcessor, CLIPModel\n",
    "\n",
    "import torchvision.transforms as transforms\n",
    "from datasets import Dataset, load_dataset\n",
    "from torchvision.datasets import ImageFolder\n",
    "from torch.utils.data import DataLoader\n",
    "from transformers import DefaultDataCollator\n",
    "from transformers import CLIPImageProcessor, CLIPModel\n",
    "\n",
    "device = \"cuda\" if torch.cuda.is_available() else \"cpu\""
   ]
  },
  {
   "cell_type": "code",
   "execution_count": 14,
   "id": "3cd253ad-e552-4750-9605-820e9f8b56c3",
   "metadata": {},
   "outputs": [],
   "source": [
    "import os\n",
    "from random import sample\n",
    "from datasets import Dataset, load_dataset\n",
    "fraud_folder = '/upb/users/b/bakshit/profiles/unix/cs/FraudDetectionThesis'\n",
    "train_folder = os.path.join(fraud_folder, 'data/Dataset1/train')"
   ]
  },
  {
   "cell_type": "code",
   "execution_count": 15,
   "id": "9121a0bf-c0c5-477f-b90e-74604c7fe312",
   "metadata": {},
   "outputs": [],
   "source": [
    "from torchvision.transforms import RandomResizedCrop, Compose, Normalize, ToTensor\n",
    "\n",
    "_transforms = Compose([RandomResizedCrop(224), ToTensor(), ])\n",
    "\n",
    "def transforms(examples):\n",
    "    examples[\"pixel_values\"] = [_transforms(img.convert(\"RGB\")) for img in examples[\"image\"]]\n",
    "    del examples[\"image\"]\n",
    "    return examples"
   ]
  },
  {
   "cell_type": "code",
   "execution_count": 16,
   "id": "75e88fb5-58a7-4547-b969-8c9596fc3fa9",
   "metadata": {},
   "outputs": [
    {
     "data": {
      "application/vnd.jupyter.widget-view+json": {
       "model_id": "ca48cf1e5b394cf987bbff9d5a77198a",
       "version_major": 2,
       "version_minor": 0
      },
      "text/plain": [
       "Resolving data files:   0%|          | 0/20500 [00:00<?, ?it/s]"
      ]
     },
     "metadata": {},
     "output_type": "display_data"
    },
    {
     "data": {
      "application/vnd.jupyter.widget-view+json": {
       "model_id": "cea3307aa8064e55b605d991be18d499",
       "version_major": 2,
       "version_minor": 0
      },
      "text/plain": [
       "Resolving data files:   0%|          | 0/20500 [00:00<?, ?it/s]"
      ]
     },
     "metadata": {},
     "output_type": "display_data"
    }
   ],
   "source": [
    "train_ds= load_dataset('imagefolder', data_dir=train_folder,split='train[:80%]')\n",
    "valid_ds = load_dataset('imagefolder', data_dir=train_folder,split='train[80%:]')\n",
    "    \n",
    "train_ds = train_ds.with_transform(transforms)\n",
    "valid_ds = valid_ds.with_transform(transforms)"
   ]
  },
  {
   "cell_type": "code",
   "execution_count": 17,
   "id": "0b203a7b-2b66-4d31-9be9-f544a441e69d",
   "metadata": {},
   "outputs": [],
   "source": [
    "# Define data loaders with batch size\n",
    "train_loader = DataLoader(train_ds, batch_size=4, shuffle=True)\n",
    "valid_loader = DataLoader(valid_ds, batch_size=4, shuffle=False)"
   ]
  },
  {
   "cell_type": "code",
   "execution_count": 18,
   "id": "fe834488-e6f3-4659-a845-c474e3cd70ce",
   "metadata": {},
   "outputs": [
    {
     "data": {
      "text/plain": [
       "Dataset({\n",
       "    features: ['image', 'label'],\n",
       "    num_rows: 16400\n",
       "})"
      ]
     },
     "execution_count": 18,
     "metadata": {},
     "output_type": "execute_result"
    }
   ],
   "source": [
    "train_ds"
   ]
  },
  {
   "cell_type": "code",
   "execution_count": 19,
   "id": "a2812350-ae18-4071-8b3d-11a710e19ea0",
   "metadata": {},
   "outputs": [
    {
     "data": {
      "text/plain": [
       "Dataset({\n",
       "    features: ['image', 'label'],\n",
       "    num_rows: 4100\n",
       "})"
      ]
     },
     "execution_count": 19,
     "metadata": {},
     "output_type": "execute_result"
    }
   ],
   "source": [
    "valid_ds"
   ]
  },
  {
   "cell_type": "markdown",
   "id": "981db8de-419a-4065-a35c-d802c198cacd",
   "metadata": {},
   "source": [
    "### Machine learning Models"
   ]
  },
  {
   "cell_type": "code",
   "execution_count": 9,
   "id": "2fa433ce-7415-499c-a1c1-2631a3ee855d",
   "metadata": {},
   "outputs": [],
   "source": [
    "## CLIP Based Linear Classifier\n",
    "\n",
    "from transformers import AutoModelForImageClassification, TrainingArguments, Trainer, AdamW\n",
    "import torch.nn as nn\n",
    "\n",
    "class CLIPModelClassifier(nn.Module):\n",
    "    def __init__(self, num_classes=2):\n",
    "        super(CLIPModelClassifier, self).__init__()\n",
    "        self.model = CLIPModel.from_pretrained(\"openai/clip-vit-large-patch14\").to(device)\n",
    "        self.fc = nn.Linear(768, 1)\n",
    "\n",
    "    def forward(self, x):       \n",
    "        features = self.model.get_image_features(pixel_values=x)      \n",
    "        logits = self.fc(features)\n",
    "        # probabilities = torch.sigmoid(logits)\n",
    "        return logits"
   ]
  },
  {
   "cell_type": "code",
   "execution_count": 38,
   "id": "11c5bb3c-f3bb-4bd4-b8b6-4b9545c40708",
   "metadata": {},
   "outputs": [],
   "source": [
    "## Neural Network based model\n",
    "\n",
    "import torch\n",
    "import torch.nn as nn\n",
    "import torch.optim as optim\n",
    "\n",
    "class NeuralNetwork(nn.Module):\n",
    "    def __init__(self, ):\n",
    "        input_size = 768  # Size of image embeddings\n",
    "        hidden_size = 224  # Size of hidden layer\n",
    "        num_classes = 1  # Number of classes (e.g., real vs. fake)\n",
    "        super(NeuralNetwork, self).__init__()\n",
    "        self.model = CLIPModel.from_pretrained(\"openai/clip-vit-large-patch14\").to(device)\n",
    "        self.fc1 = nn.Linear(input_size, hidden_size)\n",
    "        self.relu = nn.ReLU()\n",
    "        self.fc2 = nn.Linear(hidden_size, num_classes)\n",
    "\n",
    "    def forward(self, x):\n",
    "        features = self.model.get_image_features(pixel_values=x)      \n",
    "        x = self.fc1(features)\n",
    "        x = self.relu(x)\n",
    "        x = self.fc2(x)\n",
    "        return x\n"
   ]
  },
  {
   "cell_type": "markdown",
   "id": "b90545a5-f4d9-4384-a491-0602f2511d1e",
   "metadata": {},
   "source": [
    "#### Load the models"
   ]
  },
  {
   "cell_type": "code",
   "execution_count": 10,
   "id": "1a0f61d9-7e6f-447e-8799-0861ad01a33f",
   "metadata": {},
   "outputs": [],
   "source": [
    "from torch.utils.tensorboard import SummaryWriter\n",
    "from tqdm import tqdm\n",
    "\n",
    "clip_model = CLIPModelClassifier().to(device)\n",
    "clip_model.train()\n",
    "loss_fn = nn.BCEWithLogitsLoss()#nn.CrossEntropyLoss()"
   ]
  },
  {
   "cell_type": "code",
   "execution_count": 39,
   "id": "49f31e77-0fc0-4875-a858-344708a37c49",
   "metadata": {},
   "outputs": [],
   "source": [
    "from torch.utils.tensorboard import SummaryWriter\n",
    "from tqdm import tqdm\n",
    "\n",
    "nen_model = NeuralNetwork().to(device)\n",
    "nen_model.train()\n",
    "loss_fn = nn.BCEWithLogitsLoss()#nn.CrossEntropyLoss()"
   ]
  },
  {
   "cell_type": "markdown",
   "id": "ed955e20-6e78-4359-9d12-410e4572e56a",
   "metadata": {},
   "source": [
    "### Training Loop"
   ]
  },
  {
   "cell_type": "markdown",
   "id": "ef275ef7-fa60-48ed-8ca8-a01cd761282b",
   "metadata": {},
   "source": [
    "#### One epoch training"
   ]
  },
  {
   "cell_type": "code",
   "execution_count": 40,
   "id": "51a3686a-5590-44a5-a2b2-8682e38b4fd9",
   "metadata": {},
   "outputs": [],
   "source": [
    "model = nen_model"
   ]
  },
  {
   "cell_type": "code",
   "execution_count": 41,
   "id": "964dca15-c5d4-4f10-8bb0-c213fcb691dd",
   "metadata": {},
   "outputs": [],
   "source": [
    "def train_one_epoch(epoch_index, tb_writer, optimizer):\n",
    "    running_loss = 0.\n",
    "    last_loss = 0.\n",
    "\n",
    "    for i, data in enumerate(train_loader):\n",
    "        # Every data instance is an input + label pair\n",
    "        inputs = data['pixel_values']\n",
    "        inputs = inputs.to(device)\n",
    "        labels = data['label'].to(device)\n",
    "\n",
    "        # Zero your gradients for every batch!\n",
    "        optimizer.zero_grad()\n",
    "\n",
    "        # Make predictions for this batch\n",
    "        outputs = model(inputs)\n",
    "        # print(outputs)\n",
    "        outputs = torch.squeeze(outputs,1)\n",
    "        labels=labels.float()\n",
    "        \n",
    "        # Compute the loss and its gradients\n",
    "        loss = loss_fn(outputs, labels)\n",
    "        loss.backward()\n",
    "\n",
    "        # Adjust learning weights\n",
    "        optimizer.step()\n",
    "        \n",
    "        # Gather data and report\n",
    "        running_loss += loss.item()\n",
    "        if i>0 and i % 500 == 0:\n",
    "            last_loss = running_loss / 500 # loss per batch\n",
    "            print('  batch {} loss: {}'.format(i + 1, last_loss))\n",
    "            tb_x = epoch_index * len(train_loader) + i + 1\n",
    "            # tb_writer.add_scalar('Loss/train', last_loss, tb_x)\n",
    "            running_loss = 0.\n",
    "\n",
    "    return last_loss"
   ]
  },
  {
   "cell_type": "markdown",
   "id": "545b4bc4-dbcb-4fdc-bd96-9767e1014dd2",
   "metadata": {},
   "source": [
    "#### Training for all epochs + validation"
   ]
  },
  {
   "cell_type": "code",
   "execution_count": null,
   "id": "5767e15c-e5bd-4575-898c-f8bc8e9f74ce",
   "metadata": {},
   "outputs": [
    {
     "name": "stdout",
     "output_type": "stream",
     "text": [
      "process started for 0.01\n",
      "EPOCH 1:\n",
      "  batch 501 loss: 1.2138298326904768\n"
     ]
    }
   ],
   "source": [
    "from datetime import datetime\n",
    "current_best_model = ''\n",
    "\n",
    "EPOCHS = 25\n",
    "\n",
    "best_vloss = 1_000_000.\n",
    "lr_list=[0.01,0.001,0.01, 0.0001]\n",
    "\n",
    "for rate in lr_list:\n",
    "    print(f'process started for {rate}')\n",
    "    optimizer = torch.optim.AdamW(model.parameters(), lr=rate,)\n",
    "    \n",
    "    # optimizer = torch.optim.SGD(model.parameters(), lr=0.01, momentum=0.8)\n",
    "    writer = SummaryWriter(f'classify_image_clip_model/runs/13_april_NralNtwork_clip_{rate}_{EPOCHS}')\n",
    "    epoch_number = 0\n",
    "\n",
    "    for epoch in range(EPOCHS):\n",
    "        print('EPOCH {}:'.format(epoch_number + 1))\n",
    "    \n",
    "        # Make sure gradient tracking is on, and do a pass over the data\n",
    "        model.train(True)\n",
    "        avg_loss = train_one_epoch(epoch_number, writer, optimizer)\n",
    "    \n",
    "    \n",
    "        running_vloss = 0.0\n",
    "        # Set the model to evaluation mode, disabling dropout and using population\n",
    "        # statistics for batch normalization.\n",
    "        model.eval()\n",
    "    \n",
    "        # Disable gradient computation and reduce memory consumption.\n",
    "        with torch.no_grad():\n",
    "            for i, vdata in enumerate(valid_loader):\n",
    "                vinputs = vdata['pixel_values']\n",
    "                vinputs = vinputs.to(device)\n",
    "                vlabels = vdata['label'].float().to(device)\n",
    "                voutputs = model(vinputs)\n",
    "                vlabels = torch.unsqueeze(vlabels,1)\n",
    "                vloss = loss_fn(voutputs, vlabels)\n",
    "                running_vloss += vloss\n",
    "    \n",
    "        avg_vloss = running_vloss / (i + 1)\n",
    "        print('LOSS train {} valid {}'.format(avg_loss, avg_vloss))\n",
    "    \n",
    "        # Log the running loss averaged per batch\n",
    "        # for both training and validation\n",
    "        writer.add_scalars('Training vs. Validation Loss',\n",
    "                        { 'Training' : avg_loss, 'Validation' : avg_vloss },\n",
    "                        epoch_number + 1)\n",
    "        writer.flush()\n",
    "    \n",
    "        # Track best performance, and save the model's state\n",
    "        if avg_vloss < best_vloss and epoch_number > 3:\n",
    "            best_vloss = avg_vloss\n",
    "            model_path = f'classify_image_clip_model/model_cnn_clip/13_april_NralNtwork_clip_model_{rate}_{epoch_number}'\n",
    "            current_best_model = model_path\n",
    "            torch.save(model.state_dict(), model_path)\n",
    "    \n",
    "        epoch_number += 1\n",
    "print(current_best_model)"
   ]
  },
  {
   "cell_type": "code",
   "execution_count": null,
   "id": "c7f966a8-d2ab-4049-8756-9cfd58ef48f5",
   "metadata": {},
   "outputs": [],
   "source": [
    "current_best_model"
   ]
  },
  {
   "cell_type": "markdown",
   "id": "8372a7f2-43ea-47be-8660-1e48326218de",
   "metadata": {},
   "source": [
    "### Inference"
   ]
  },
  {
   "cell_type": "code",
   "execution_count": null,
   "id": "2d50750f-fe9d-4fff-9069-cbf79ed70f04",
   "metadata": {},
   "outputs": [],
   "source": [
    "from datasets import load_dataset\n",
    "from torch.utils.data import DataLoader\n",
    "\n",
    "real_test = os.path.join(fraud_folder, 'data/test_dataset1/real')\n",
    "ddpm_test = os.path.join(fraud_folder, 'data/Dataset1/test/fake/ddpm')\n",
    "euler_test= os.path.join(fraud_folder, 'data/Dataset1/test/fake/euler')\n",
    "unipc_test = os.path.join(fraud_folder, 'data/Dataset1/test/fake/unipc')\n",
    "\n",
    "real_testds = load_dataset('imagefolder', data_dir=real_test)\n",
    "ddpmds = load_dataset('imagefolder', data_dir=ddpm_test)\n",
    "eulerds =  load_dataset('imagefolder', data_dir=euler_test)\n",
    "unipcds =  load_dataset('imagefolder', data_dir=unipc_test)"
   ]
  },
  {
   "cell_type": "markdown",
   "id": "609d0582-a973-4a88-b628-8c6905419d87",
   "metadata": {},
   "source": [
    "#### Implement transforms operations"
   ]
  },
  {
   "cell_type": "code",
   "execution_count": null,
   "id": "28f615f7-b6e6-484e-9cda-c518813af18d",
   "metadata": {},
   "outputs": [],
   "source": [
    "# Load the CLIP model\n",
    "device = \"cuda\" if torch.cuda.is_available() else \"cpu\"\n",
    "# model = CLIPModel.from_pretrained(\"openai/clip-vit-base-patch32\").to(device)\n",
    "\n",
    "size = 224\n",
    "_transforms = Compose([RandomResizedCrop(size), ToTensor(), normalize])\n",
    "\n",
    "def transforms(examples):\n",
    "    examples[\"pixel_values\"] = [_transforms(img.convert(\"RGB\")) for img in examples[\"image\"]]\n",
    "    del examples[\"image\"]\n",
    "    return examples"
   ]
  },
  {
   "cell_type": "code",
   "execution_count": null,
   "id": "19cde133-4072-4df4-8796-b6d35abcbc36",
   "metadata": {},
   "outputs": [],
   "source": [
    "from torchvision.transforms import RandomResizedCrop, Compose, Normalize, ToTensor\n",
    "from transformers import CLIPImageProcessor, CLIPModel\n",
    "import torch\n",
    "\n",
    "ddpmds = ddpmds.with_transform(transforms)\n",
    "eulerds = eulerds.with_transform(transforms)\n",
    "unipcds = unipcds.with_transform(transforms)\n",
    "real_testds = real_testds.with_transform(transforms)\n",
    "\n",
    "test_loader = DataLoader(real_testds['train'], batch_size=32, shuffle=False)\n",
    "euler_loader = DataLoader(eulerds['train'], batch_size=32, shuffle=False)\n",
    "unipc_loader = DataLoader(unipcds['train'], batch_size=32, shuffle=False)\n",
    "ddpm_loader = DataLoader(ddpmds['train'], batch_size=32, shuffle=False)"
   ]
  },
  {
   "cell_type": "markdown",
   "id": "a2c45c81-2745-47b1-8022-762cf9010f94",
   "metadata": {},
   "source": [
    "#### Load the best model"
   ]
  },
  {
   "cell_type": "code",
   "execution_count": null,
   "id": "ba5dca14-7e26-42e8-8ef3-b61d1f299791",
   "metadata": {},
   "outputs": [],
   "source": [
    "## inference\n",
    "model_path = os.path.join(fraud_folder, f'src/detection_algorithms/{current_best_model}')\n",
    "model = CLIPModelClassifier().to(device)\n",
    "model.load_state_dict(torch.load(model_path))"
   ]
  },
  {
   "cell_type": "markdown",
   "id": "a360c304-2c9c-443f-9935-e1959933c511",
   "metadata": {},
   "source": [
    "#### Start inference"
   ]
  },
  {
   "cell_type": "code",
   "execution_count": 75,
   "id": "c33f61c8-f447-44cf-8db7-7053abfcd21d",
   "metadata": {},
   "outputs": [
    {
     "data": {
      "text/plain": [
       "{'accuracy': 1.0}"
      ]
     },
     "execution_count": 75,
     "metadata": {},
     "output_type": "execute_result"
    }
   ],
   "source": [
    "import evaluate\n",
    "metric = evaluate.load(\"accuracy\")\n",
    "model.eval()\n",
    "predictions_dict={}\n",
    "for i, batch in enumerate(valid_loader):\n",
    "    batch = {k: v.to(device) for k, v in batch.items()}\n",
    "    with torch.no_grad():\n",
    "        outputs = model(batch['pixel_values'])\n",
    "    # predictions = torch.argmax(outputs, dim=-1)\n",
    "    predicted_labels = torch.round(torch.sigmoid(outputs.cpu())).squeeze().numpy()\n",
    "    # predictions_dict[i] = predictions\n",
    "    metric.add_batch(predictions=predicted_labels, references=[0]*len(batch['pixel_values']))\n",
    "    \n",
    "\n",
    "metric.compute()"
   ]
  },
  {
   "cell_type": "code",
   "execution_count": null,
   "id": "5eb2d092-8122-41e2-bbb5-0a81df049ac4",
   "metadata": {},
   "outputs": [],
   "source": []
  }
 ],
 "metadata": {
  "kernelspec": {
   "display_name": "Python 3 (ipykernel)",
   "language": "python",
   "name": "python3"
  },
  "language_info": {
   "codemirror_mode": {
    "name": "ipython",
    "version": 3
   },
   "file_extension": ".py",
   "mimetype": "text/x-python",
   "name": "python",
   "nbconvert_exporter": "python",
   "pygments_lexer": "ipython3",
   "version": "3.9.2"
  }
 },
 "nbformat": 4,
 "nbformat_minor": 5
}
