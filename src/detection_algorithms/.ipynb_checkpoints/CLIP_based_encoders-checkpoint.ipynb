{
 "cells": [
  {
   "cell_type": "code",
   "execution_count": 3,
   "id": "d1cf4b41-3569-440c-ad90-c074bd941dd4",
   "metadata": {},
   "outputs": [],
   "source": [
    "from transformers import CLIPImageProcessor, CLIPModel\n",
    "import torch\n",
    "import torch.nn as nn\n",
    "\n",
    "class CLIPModelObject(nn.Module):\n",
    "    def __init__(self, name, num_classes=1):\n",
    "        super(CLIPModel, self).__init__()\n",
    "\n",
    "        self.model = CLIPModel.from_pretrained(\"openai/clip-vit-base-patch32\").to(device) # self.preprecess will not be used during training, which is handled in Dataset class \n",
    "        self.fc = nn.Linear( 768, num_classes )\n",
    " \n",
    "\n",
    "    def forward(self, x, return_feature=False):\n",
    "        features = self.model(pixel_valuesx) \n",
    "        if return_feature:\n",
    "            return features\n",
    "        return self.fc(features)"
   ]
  },
  {
   "cell_type": "code",
   "execution_count": null,
   "id": "736a2d0b-44cd-4346-8287-1e3988215999",
   "metadata": {},
   "outputs": [],
   "source": []
  },
  {
   "cell_type": "code",
   "execution_count": 4,
   "id": "1f61ba8b-5ab0-475d-af64-3e78eda12b92",
   "metadata": {},
   "outputs": [
    {
     "data": {
      "application/vnd.jupyter.widget-view+json": {
       "model_id": "3cf08360627d4872a82d69cf7ffa8d78",
       "version_major": 2,
       "version_minor": 0
      },
      "text/plain": [
       "config.json:   0%|          | 0.00/4.19k [00:00<?, ?B/s]"
      ]
     },
     "metadata": {},
     "output_type": "display_data"
    },
    {
     "data": {
      "application/vnd.jupyter.widget-view+json": {
       "model_id": "6d0e9603a92a4ecaaa54df233ea46c41",
       "version_major": 2,
       "version_minor": 0
      },
      "text/plain": [
       "pytorch_model.bin:   0%|          | 0.00/605M [00:00<?, ?B/s]"
      ]
     },
     "metadata": {},
     "output_type": "display_data"
    },
    {
     "data": {
      "application/vnd.jupyter.widget-view+json": {
       "model_id": "6669d46f2e1d4c61a6b71bc666be8537",
       "version_major": 2,
       "version_minor": 0
      },
      "text/plain": [
       "preprocessor_config.json:   0%|          | 0.00/316 [00:00<?, ?B/s]"
      ]
     },
     "metadata": {},
     "output_type": "display_data"
    },
    {
     "data": {
      "application/vnd.jupyter.widget-view+json": {
       "model_id": "bd3e80cebf1c4c308515609371a05591",
       "version_major": 2,
       "version_minor": 0
      },
      "text/plain": [
       "Resolving data files:   0%|          | 0/86646 [00:00<?, ?it/s]"
      ]
     },
     "metadata": {},
     "output_type": "display_data"
    },
    {
     "data": {
      "application/vnd.jupyter.widget-view+json": {
       "model_id": "8562e66f97714d09b6e77b0abc327ccc",
       "version_major": 2,
       "version_minor": 0
      },
      "text/plain": [
       "Resolving data files:   0%|          | 0/300 [00:00<?, ?it/s]"
      ]
     },
     "metadata": {},
     "output_type": "display_data"
    },
    {
     "data": {
      "application/vnd.jupyter.widget-view+json": {
       "model_id": "1119f500805c4f0fba27adf62c3c3ffa",
       "version_major": 2,
       "version_minor": 0
      },
      "text/plain": [
       "Generating train split: 0 examples [00:00, ? examples/s]"
      ]
     },
     "metadata": {},
     "output_type": "display_data"
    },
    {
     "data": {
      "application/vnd.jupyter.widget-view+json": {
       "model_id": "2361d56c2d874cb8a82f056095aae8bd",
       "version_major": 2,
       "version_minor": 0
      },
      "text/plain": [
       "Generating test split: 0 examples [00:00, ? examples/s]"
      ]
     },
     "metadata": {},
     "output_type": "display_data"
    }
   ],
   "source": [
    "\n",
    "import torchvision.transforms as transforms\n",
    "from datasets import Dataset, load_dataset\n",
    "from torchvision.datasets import ImageFolder\n",
    "from torch.utils.data import DataLoader\n",
    "from transformers import DefaultDataCollator\n",
    "\n",
    "\n",
    "# Load the CLIP model\n",
    "device = \"cuda\" if torch.cuda.is_available() else \"cpu\"\n",
    "\n",
    "model = CLIPModel.from_pretrained(\"openai/clip-vit-base-patch32\").to(device)\n",
    "image_processor = CLIPImageProcessor.from_pretrained(\"openai/clip-vit-base-patch32\")\n",
    "\n",
    "dataset = load_dataset(\"imagefolder\", data_dir='/data/upb/users/b/bakshit/profiles/unix/cs/FraudDetectionThesis/Dataset1')\n"
   ]
  },
  {
   "cell_type": "code",
   "execution_count": 5,
   "id": "a4ebcf7b-35f3-465d-9cc0-bce7c14895be",
   "metadata": {},
   "outputs": [
    {
     "data": {
      "text/plain": [
       "{'pixel_values': tensor([[[[-0.1864, -0.2010, -0.2302,  ...,  1.5800,  1.5800,  1.7406],\n",
       "          [-0.1864, -0.2010, -0.2448,  ...,  1.4778,  1.4924,  1.6530],\n",
       "          [-0.1864, -0.2010, -0.2302,  ...,  1.4048,  1.3902,  1.5362],\n",
       "          ...,\n",
       "          [-0.9602, -0.9456, -0.9310,  ...,  0.6895,  0.7187,  0.7187],\n",
       "          [-0.9748, -0.9456, -0.9310,  ...,  0.6749,  0.6895,  0.7041],\n",
       "          [-0.9748, -0.9602, -0.9018,  ...,  0.6603,  0.6749,  0.7041]],\n",
       "\n",
       "         [[-0.1913, -0.2063, -0.2213,  ...,  1.7297,  1.7297,  1.8948],\n",
       "          [-0.1913, -0.2063, -0.2363,  ...,  1.6247,  1.6397,  1.8047],\n",
       "          [-0.1913, -0.2063, -0.2363,  ...,  1.5796,  1.5796,  1.7297],\n",
       "          ...,\n",
       "          [ 0.0038,  0.0188,  0.0488,  ...,  1.1294,  1.1594,  1.1594],\n",
       "          [ 0.0038,  0.0038,  0.0338,  ...,  1.0844,  1.1294,  1.1444],\n",
       "          [ 0.0038,  0.0188,  0.0338,  ...,  1.0694,  1.1144,  1.1444]],\n",
       "\n",
       "         [[-0.3426, -0.3568, -0.3568,  ...,  1.8899,  1.8757,  2.0321],\n",
       "          [-0.3426, -0.3568, -0.3711,  ...,  1.7762,  1.7904,  1.9468],\n",
       "          [-0.3426, -0.3568, -0.3711,  ...,  1.7051,  1.6909,  1.8331],\n",
       "          ...,\n",
       "          [ 1.4633,  1.4349,  1.3922,  ...,  0.0129,  0.0840,  0.0982],\n",
       "          [ 1.4776,  1.4633,  1.3922,  ..., -0.0156,  0.0555,  0.0840],\n",
       "          [ 1.5060,  1.4776,  1.4349,  ..., -0.0298,  0.0413,  0.0840]]]])}"
      ]
     },
     "execution_count": 5,
     "metadata": {},
     "output_type": "execute_result"
    }
   ],
   "source": [
    "image=image_processor(images=dataset['train'][0]['image'],return_tensors='pt', padding=True)\n",
    "image"
   ]
  },
  {
   "cell_type": "code",
   "execution_count": 9,
   "id": "84ddd1de-9ea1-462a-95f8-8105ec46efa8",
   "metadata": {},
   "outputs": [],
   "source": [
    "image['pixel_values']=image['pixel_values'].to(device)\n",
    "proc_image=model.get_image_features(image['pixel_values'])"
   ]
  },
  {
   "cell_type": "code",
   "execution_count": 17,
   "id": "8121e05c-1822-45b3-83f7-4cc0fd9741b2",
   "metadata": {},
   "outputs": [],
   "source": [
    "fc = nn.Linear( 512, 1)\n",
    "fc=fc.to(device)\n"
   ]
  },
  {
   "cell_type": "code",
   "execution_count": 16,
   "id": "096d0df9-6c93-4cd5-a7e1-90c1c5028b8b",
   "metadata": {},
   "outputs": [
    {
     "data": {
      "text/plain": [
       "torch.Size([1, 512])"
      ]
     },
     "execution_count": 16,
     "metadata": {},
     "output_type": "execute_result"
    }
   ],
   "source": [
    "proc_image.shape"
   ]
  },
  {
   "cell_type": "code",
   "execution_count": 18,
   "id": "c0ec70f0-f474-4e76-892b-5cd8bf60cd54",
   "metadata": {},
   "outputs": [
    {
     "data": {
      "text/plain": [
       "tensor([[-0.4380]], device='cuda:0', grad_fn=<AddmmBackward0>)"
      ]
     },
     "execution_count": 18,
     "metadata": {},
     "output_type": "execute_result"
    }
   ],
   "source": [
    "fc(proc_image)"
   ]
  },
  {
   "cell_type": "code",
   "execution_count": null,
   "id": "de0ace3c-0db8-4b31-91af-bef0f6a90c54",
   "metadata": {},
   "outputs": [],
   "source": [
    "processed_images = dataset.map(lambda examples: image_processor(images=examples['image'], return_tensors='pt', padding=True), batched=True)\n",
    "tensored_images = processed_images.map(lambda instance: {'pixel_values': torch.tensor(instance['pixel_values']).to(device)}, batched=True)\n",
    "# apply model to create encoding\n",
    "tensored_images.map(lambda instance: model(pixel_values=instance['pixel_values']), batched=True)"
   ]
  },
  {
   "cell_type": "code",
   "execution_count": null,
   "id": "750fcb2f-9c69-47e5-ba36-feafe314297e",
   "metadata": {},
   "outputs": [],
   "source": [
    "# following the guide at https://huggingface.co/docs/transformers/tasks/image_classification, adding the \n",
    "from torchvision.transforms import Compose, Normalize, ToTensor\n",
    "\n",
    "normalize = Normalize(mean=image_processor.image_mean, std=image_processor.image_std)\n",
    "# size = (\n",
    "#     image_processor.size[\"shortest_edge\"]\n",
    "#     if \"shortest_edge\" in image_processor.size\n",
    "#     else (image_processor.size[\"height\"], image_processor.size[\"width\"])\n",
    "# )\n",
    "_transforms = Compose([ToTensor(), normalize])\n",
    "\n",
    "def transforms(examples):\n",
    "    examples[\"pixel_values\"] = [_transforms(img.convert(\"RGB\")) for img in examples[\"image\"]]\n",
    "    del examples[\"image\"]\n",
    "    return examples"
   ]
  },
  {
   "cell_type": "code",
   "execution_count": null,
   "id": "6f0ea6a0-8a4b-4b2f-9eaf-181be0c9eb20",
   "metadata": {},
   "outputs": [],
   "source": [
    "from transformers import DefaultDataCollator\n",
    "dataset_transformed = dataset.with_transform(transforms)\n",
    "data_collator = DefaultDataCollator()"
   ]
  },
  {
   "cell_type": "code",
   "execution_count": null,
   "id": "d9d4505d-0747-4466-ad71-791fc6b14454",
   "metadata": {},
   "outputs": [],
   "source": [
    "import evaluate\n",
    "\n",
    "accuracy = evaluate.load(\"accuracy\")\n",
    "\n",
    "import numpy as np\n",
    "\n",
    "\n",
    "def compute_metrics(eval_pred):\n",
    "    predictions, labels = eval_pred\n",
    "    predictions = np.argmax(predictions, axis=1)\n",
    "    return accuracy.compute(predictions=predictions, references=labels)\n",
    "\n"
   ]
  },
  {
   "cell_type": "code",
   "execution_count": null,
   "id": "dd124c9e-fd6b-4aee-b04d-9b7086b861ce",
   "metadata": {},
   "outputs": [],
   "source": [
    "\n",
    "labels = dataset[\"train\"].features[\"label\"].names\n",
    "label2id, id2label = dict(), dict()\n",
    "for i, label in enumerate(labels):\n",
    "    label2id[label] = str(i)\n",
    "    id2label[str(i)] = label\n",
    "    \n",
    "from transformers import AutoModelForImageClassification, TrainingArguments, Trainer\n",
    "checkpoint = \"google/vit-base-patch16-224-in21k\"\n",
    "model = AutoModelForImageClassification.from_pretrained(\n",
    "    checkpoint,\n",
    "    num_labels=len(labels),\n",
    "    id2label=id2label,\n",
    "    label2id=label2id,\n",
    ")"
   ]
  },
  {
   "cell_type": "code",
   "execution_count": null,
   "id": "ef37649b-e30e-4b46-8129-7d18c55f50f9",
   "metadata": {},
   "outputs": [],
   "source": [
    "training_args = TrainingArguments(\n",
    "    output_dir=\"classify_image_clip_model\",\n",
    "    remove_unused_columns=False,\n",
    "    evaluation_strategy=\"epoch\",\n",
    "    save_strategy=\"epoch\",\n",
    "    learning_rate=5e-5,\n",
    "    per_device_train_batch_size=16,\n",
    "    gradient_accumulation_steps=4,\n",
    "    per_device_eval_batch_size=16,\n",
    "    num_train_epochs=3,\n",
    "    warmup_ratio=0.1,\n",
    "    logging_steps=10,\n",
    "    load_best_model_at_end=True,\n",
    "    metric_for_best_model=\"accuracy\",\n",
    "    push_to_hub=True,\n",
    ")\n",
    "\n",
    "trainer = Trainer(\n",
    "    model=model,\n",
    "    args=training_args,\n",
    "    data_collator=data_collator,\n",
    "    train_dataset=food[\"train\"],\n",
    "    eval_dataset=food[\"test\"],\n",
    "    tokenizer=image_processor,\n",
    "    compute_metrics=compute_metrics,\n",
    ")\n",
    "\n",
    "trainer.train()"
   ]
  },
  {
   "cell_type": "code",
   "execution_count": null,
   "id": "3ae5c6d4-5973-4ddf-b1a2-d0310f239b83",
   "metadata": {},
   "outputs": [],
   "source": []
  }
 ],
 "metadata": {
  "kernelspec": {
   "display_name": "Python 3 (ipykernel)",
   "language": "python",
   "name": "python3"
  },
  "language_info": {
   "codemirror_mode": {
    "name": "ipython",
    "version": 3
   },
   "file_extension": ".py",
   "mimetype": "text/x-python",
   "name": "python",
   "nbconvert_exporter": "python",
   "pygments_lexer": "ipython3",
   "version": "3.9.2"
  }
 },
 "nbformat": 4,
 "nbformat_minor": 5
}
